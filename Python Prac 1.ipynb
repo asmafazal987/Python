{
 "cells": [
  {
   "cell_type": "code",
   "execution_count": 6,
   "id": "0b1b6314-3dbb-410c-b600-69bb3fc4b3e0",
   "metadata": {},
   "outputs": [
    {
     "name": "stdout",
     "output_type": "stream",
     "text": [
      "3 9\n"
     ]
    }
   ],
   "source": [
    "a = 9\n",
    "b = 3\n",
    "a = a + b\n",
    "b = a - b\n",
    "a  = a - b\n",
    "print(a,b)\n"
   ]
  },
  {
   "cell_type": "code",
   "execution_count": 8,
   "id": "c1f3bac1-99ab-430b-bc84-cb2afc9d6c6f",
   "metadata": {
    "tags": []
   },
   "outputs": [
    {
     "name": "stdin",
     "output_type": "stream",
     "text": [
      "enter you first num 6\n",
      "enter you second num 7\n"
     ]
    },
    {
     "name": "stdout",
     "output_type": "stream",
     "text": [
      "7 6\n"
     ]
    }
   ],
   "source": [
    "def swap(a,b):\n",
    "    a,b = b,a\n",
    "    print(f'now first num:{a} and second num: {b}')\n",
    "a = input('enter you first num')\n",
    "b = input('enter you second num')\n",
    "swap(a,b)"
   ]
  },
  {
   "cell_type": "code",
   "execution_count": 15,
   "id": "85c7f858-79a3-43d7-a023-62527e51f5ac",
   "metadata": {
    "tags": []
   },
   "outputs": [
    {
     "name": "stdin",
     "output_type": "stream",
     "text": [
      "enter your string programming\n"
     ]
    },
    {
     "name": "stdout",
     "output_type": "stream",
     "text": [
      "programming: is not a plaindrome\n"
     ]
    }
   ],
   "source": [
    "p = input(\"enter your string\")\n",
    "if  p == p[::-2]:\n",
    "    print(f'{p}: is plaindrome')\n",
    "else:\n",
    "    print(f'{p}: is not a plaindrome')"
   ]
  },
  {
   "cell_type": "code",
   "execution_count": 1,
   "id": "e485df07-6eff-45d4-a7e9-ab085aa7256d",
   "metadata": {
    "tags": []
   },
   "outputs": [
    {
     "name": "stdout",
     "output_type": "stream",
     "text": [
      "A man a plan a canal Panama : is plaindrome\n"
     ]
    }
   ],
   "source": [
    "def plaindrome_sentence(sentence):\n",
    "    s = sentence.replace(\" \", \"\").lower()\n",
    "    if s == s[::-1]:\n",
    "        print(f'{sentence}: is plaindrome')\n",
    "    else:\n",
    "        print(f'{sentence}: is not a plaindrome')\n",
    "    \n",
    "sentence = \"A man a plan a canal Panama \"\n",
    "plaindrome_sentence(sentence)"
   ]
  },
  {
   "cell_type": "code",
   "execution_count": 5,
   "id": "5302391c-a535-438a-b9ce-5ede0fb53891",
   "metadata": {},
   "outputs": [
    {
     "name": "stdout",
     "output_type": "stream",
     "text": [
      "Question: Pakistani flag color is\n",
      "green\n",
      "white\n",
      "black\n",
      "green and white\n"
     ]
    }
   ],
   "source": [
    "ques = [{\"text\":\"What is the color of Pakistani Flag\",\n",
    "         \"choice\":['green', 'white', 'black', 'green and white'],\n",
    "         \"correct_choice\": 3\n",
    "        },\n",
    "        {\"text\": \"Which language is mostly used in Machine Learning\",\n",
    "        \"choice\"   \n",
    "        }\n",
    "       ]\n",
    "ans = 'green and white'\n",
    "for k,v in ques.items():\n",
    "    print(f'Question: {k}')\n",
    "    for item in v:\n",
    "          print(item)"
   ]
  },
  {
   "cell_type": "code",
   "execution_count": 8,
   "id": "1133f237-5631-4691-94cf-2a186113262f",
   "metadata": {},
   "outputs": [
    {
     "name": "stdout",
     "output_type": "stream",
     "text": [
      "who is the founder of Pakistan?\n",
      "\n",
      "iqbal\n",
      "jinnah\n",
      "liaqat ali khan\n",
      " correct answer: jinah\n"
     ]
    }
   ],
   "source": [
    "import os\n",
    "file = open('Quiz.txt','r')\n",
    "print(file.read())\n",
    "file.close()\n"
   ]
  },
  {
   "cell_type": "code",
   "execution_count": 14,
   "id": "5823cef9-da94-43fe-b9e0-3dcbf14b47f1",
   "metadata": {
    "tags": []
   },
   "outputs": [],
   "source": [
    "import os \n",
    "file = open('quiz1.txt','w')\n",
    "file.write(\"hello world\")\n",
    "file.close()"
   ]
  },
  {
   "cell_type": "code",
   "execution_count": null,
   "id": "4bd6b19a-e86c-43f6-af37-2b466e41379f",
   "metadata": {
    "tags": []
   },
   "outputs": [],
   "source": [
    "import os\n",
    "os.remove('quiz3.txt')\n",
    "file.close()"
   ]
  },
  {
   "cell_type": "code",
   "execution_count": null,
   "id": "72d481df-0c16-4a50-a7cc-f51ef042c892",
   "metadata": {
    "tags": []
   },
   "outputs": [],
   "source": []
  },
  {
   "cell_type": "code",
   "execution_count": null,
   "id": "cc44ee32-ccc8-4da8-95a1-345fc472c118",
   "metadata": {},
   "outputs": [],
   "source": []
  },
  {
   "cell_type": "code",
   "execution_count": null,
   "id": "e323a945-5be9-4d74-a851-b87026ed3c02",
   "metadata": {},
   "outputs": [],
   "source": []
  },
  {
   "cell_type": "code",
   "execution_count": null,
   "id": "4d104210-dcb7-426e-bf06-38687ec7db0e",
   "metadata": {
    "tags": []
   },
   "outputs": [],
   "source": []
  },
  {
   "cell_type": "code",
   "execution_count": null,
   "id": "77cc6f08-939f-4890-b15e-d37c34216ba3",
   "metadata": {
    "tags": []
   },
   "outputs": [],
   "source": []
  },
  {
   "cell_type": "code",
   "execution_count": null,
   "id": "78d6bc62-f1c4-42a7-8b4f-d5f4db5f7d54",
   "metadata": {
    "tags": []
   },
   "outputs": [],
   "source": []
  },
  {
   "cell_type": "code",
   "execution_count": null,
   "id": "f4007d2c-3518-40ae-82f9-3a60095e7a23",
   "metadata": {
    "tags": []
   },
   "outputs": [],
   "source": []
  },
  {
   "cell_type": "code",
   "execution_count": 33,
   "id": "c9bd03d4-282d-495f-926b-671d8e4e92ae",
   "metadata": {
    "tags": []
   },
   "outputs": [
    {
     "name": "stdout",
     "output_type": "stream",
     "text": [
      "A\n",
      "p\n",
      "p\n",
      "l\n",
      "e\n"
     ]
    }
   ],
   "source": [
    "L = \"Apple\"\n",
    "for i in L:\n",
    "    print(i)"
   ]
  },
  {
   "cell_type": "code",
   "execution_count": null,
   "id": "90385b9b-ae6d-4324-bdb1-2e8dcc9dfbf2",
   "metadata": {
    "tags": []
   },
   "outputs": [],
   "source": []
  },
  {
   "cell_type": "code",
   "execution_count": 48,
   "id": "d15c201d-0f63-42cf-90a9-c7d70d295c8d",
   "metadata": {
    "tags": []
   },
   "outputs": [
    {
     "name": "stdin",
     "output_type": "stream",
     "text": [
      "Enter num num 5\n"
     ]
    },
    {
     "name": "stdout",
     "output_type": "stream",
     "text": [
      " 2 is a prime num\n",
      " 3 is a prime num\n",
      " 4 is a prime num\n"
     ]
    }
   ],
   "source": [
    "n = int(input('Enter num num'))\n",
    "for i in range(2 , n):\n",
    "    if n % i == 0:\n",
    "        print(f' {i} is  prime number')\n",
    "    else:\n",
    "        print(f' {i} is not a prime num')"
   ]
  },
  {
   "cell_type": "code",
   "execution_count": null,
   "id": "1174f599-af7e-4848-9e50-87e178748187",
   "metadata": {
    "tags": []
   },
   "outputs": [],
   "source": []
  },
  {
   "cell_type": "code",
   "execution_count": null,
   "id": "ca1ccd9d-e84c-4dd2-b360-25bb20325c15",
   "metadata": {},
   "outputs": [],
   "source": []
  }
 ],
 "metadata": {
  "kernelspec": {
   "display_name": "Python 3 (ipykernel)",
   "language": "python",
   "name": "python3"
  },
  "language_info": {
   "codemirror_mode": {
    "name": "ipython",
    "version": 3
   },
   "file_extension": ".py",
   "mimetype": "text/x-python",
   "name": "python",
   "nbconvert_exporter": "python",
   "pygments_lexer": "ipython3",
   "version": "3.11.4"
  }
 },
 "nbformat": 4,
 "nbformat_minor": 5
}
