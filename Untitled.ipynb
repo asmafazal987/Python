{
 "cells": [
  {
   "cell_type": "code",
   "execution_count": 22,
   "id": "166add41-2789-469a-a87e-a64246e453db",
   "metadata": {
    "tags": []
   },
   "outputs": [
    {
     "name": "stdin",
     "output_type": "stream",
     "text": [
      "Enter your list1 1234\n",
      "Enter your list2 abcd\n"
     ]
    },
    {
     "name": "stdout",
     "output_type": "stream",
     "text": [
      "{'1': 'a', '2': 'b', '3': 'c', '4': 'd'}\n"
     ]
    }
   ],
   "source": [
    "def list_to_dict(li1,li2):\n",
    "    d = {}\n",
    "    for i in range(len(li1)):\n",
    "        d[li1[i]] = li2[i]\n",
    "    print(d)\n",
    "#li1 = [1,2,3,4]\n",
    "#li2 = ['A', 'B', 'C', 'D']\n",
    "li1 = list(input('Enter your list1'))\n",
    "li2 = list(input('Enter your list2'))\n",
    "list_to_dict(li1,li2)\n"
   ]
  },
  {
   "cell_type": "code",
   "execution_count": 9,
   "id": "43d34481-4e11-4282-b443-1606108a51a2",
   "metadata": {
    "tags": []
   },
   "outputs": [
    {
     "name": "stdin",
     "output_type": "stream",
     "text": [
      "Enter a dictionary in the format {key1:value1, key2:value2, ...}:  {1:'A', 2:'B', 3:'C', 4:'D', 5:'E', 6:'E', 7:'D'}\n"
     ]
    },
    {
     "name": "stdout",
     "output_type": "stream",
     "text": [
      "{1: 'A', 2: 'B', 3: 'C', 4: 'apple', 5: 'E', 6: 'E', 7: 'apple'}\n"
     ]
    }
   ],
   "source": [
    "def replace_dictionary(input_dict):\n",
    "    for key in input_dict:\n",
    "        if input_dict[key] == 'D':\n",
    "            input_dict[key] = 'apple'\n",
    "    return input_dict\n",
    "\n",
    "input_string = input(\"Enter a dictionary in the format {key1:value1, key2:value2, ...}: \")\n",
    "input_dict = eval(input_string)  # Safely evaluate the input string as a dictionary\n",
    "\n",
    "result_dict = replace_dictionary(input_dict)\n",
    "print(result_dict)"
   ]
  },
  {
   "cell_type": "code",
   "execution_count": 11,
   "id": "1ca20417-6de1-4e2c-859b-d13637eafa04",
   "metadata": {},
   "outputs": [
    {
     "name": "stdin",
     "output_type": "stream",
     "text": [
      "Enter a dictionary in the format {'key1': value1, 'key2': value2, ...}:  {'A': 1, 'B':2, 'C':3, 'D':7, 'E':4, 'F':5, 'G':6, 'H':7}\n"
     ]
    },
    {
     "name": "stdout",
     "output_type": "stream",
     "text": [
      "{'A': 1, 'B': 2, 'C': 3, 'D': 10, 'E': 4, 'F': 5, 'G': 6, 'H': 10}\n"
     ]
    }
   ],
   "source": [
    "def update_dictionary(input_dict):\n",
    "    for key,value in input_dict.items():\n",
    "        if input_dict[key] == 7:\n",
    "            input_dict[key] = 10\n",
    "    return input_dict\n",
    "\n",
    "input_string = input(\"Enter a dictionary in the format {'key1': value1, 'key2': value2, ...}: \")\n",
    "input_dict = eval(input_string)  # Safely evaluate the input string as a dictionary\n",
    "\n",
    "result_dict = update_dictionary(input_dict)\n",
    "print(result_dict)"
   ]
  },
  {
   "cell_type": "code",
   "execution_count": 13,
   "id": "6dc4e88f-e319-435b-97cb-2996dc703580",
   "metadata": {
    "tags": []
   },
   "outputs": [
    {
     "name": "stdin",
     "output_type": "stream",
     "text": [
      "Enter the first list as comma-separated values:  2,4,5,9\n",
      "Enter the second list as comma-separated values:  5,8,7,9\n"
     ]
    },
    {
     "name": "stdout",
     "output_type": "stream",
     "text": [
      "5 ,9 ,"
     ]
    }
   ],
   "source": [
    "def find_common_elements(list1, list2):\n",
    "    for item1 in list1:\n",
    "        for item2 in list2:\n",
    "            if item1 == item2:\n",
    "                print(item1, end=' ,')\n",
    "\n",
    "input_string1 = input(\"Enter the first list as comma-separated values: \")\n",
    "list1 = [int(x) for x in input_string1.split(',')]\n",
    "\n",
    "input_string2 = input(\"Enter the second list as comma-separated values: \")\n",
    "list2 = [int(x) for x in input_string2.split(',')]\n",
    "\n",
    "find_common_elements(list1, list2)\n"
   ]
  },
  {
   "cell_type": "code",
   "execution_count": 17,
   "id": "3d096c4b-9b3c-4b4a-917f-c4ac1f59d649",
   "metadata": {
    "tags": []
   },
   "outputs": [
    {
     "name": "stdin",
     "output_type": "stream",
     "text": [
      "Enter the starting number:  0\n",
      "Enter the ending number:  10\n"
     ]
    },
    {
     "name": "stdout",
     "output_type": "stream",
     "text": [
      "1\n",
      "3\n",
      "5\n",
      "7\n",
      "9\n"
     ]
    }
   ],
   "source": [
    "def print_odd_numbers_in_range(start, end):\n",
    "    for i in range(start, end+1):\n",
    "        if i % 2 == 0:\n",
    "            continue\n",
    "        else:\n",
    "            print(i)\n",
    "\n",
    "start_num = int(input(\"Enter the starting number: \"))\n",
    "end_num = int(input(\"Enter the ending number: \"))\n",
    "\n",
    "print_odd_numbers_in_range(start_num, end_num)\n"
   ]
  },
  {
   "cell_type": "code",
   "execution_count": 18,
   "id": "ac466343-2a94-4b25-bae2-a8fbaf194fbd",
   "metadata": {
    "tags": []
   },
   "outputs": [
    {
     "name": "stdin",
     "output_type": "stream",
     "text": [
      "Enter a list containing different data types:  1,'a',[2,3,4], {'v':3}\n",
      "Enter the index of the dictionary element in the list:  3\n",
      "Enter the key for the dictionary element:  v\n",
      "Enter the value to update with:  s\n"
     ]
    },
    {
     "name": "stdout",
     "output_type": "stream",
     "text": [
      "(1, 'a', [2, 3, 4], {'v': 's'})\n"
     ]
    }
   ],
   "source": [
    "def update_list_element(input_list, index, key, value):\n",
    "    input_list[index][key] = value\n",
    "\n",
    "input_string = input(\"Enter a list containing different data types: \")\n",
    "input_list = eval(input_string)  # Safely evaluate the input string as a list\n",
    "\n",
    "index = int(input(\"Enter the index of the dictionary element in the list: \"))\n",
    "key = input(\"Enter the key for the dictionary element: \")\n",
    "value = input(\"Enter the value to update with: \")\n",
    "\n",
    "update_list_element(input_list, index, key, value)\n",
    "print(input_list)\n"
   ]
  },
  {
   "cell_type": "code",
   "execution_count": 20,
   "id": "ceb23165-37fb-4921-a6ce-3686c61a56f4",
   "metadata": {
    "tags": []
   },
   "outputs": [
    {
     "name": "stdin",
     "output_type": "stream",
     "text": [
      "Enter a nested dictionary in the format {'person1': {'age': age1, 'city': 'city1'}, 'person2': {'age': age2, 'city': 'city2'}, ...}:  {'ali':{'age':21, 'city': 'lahore'}}\n"
     ]
    },
    {
     "name": "stdout",
     "output_type": "stream",
     "text": [
      "{'ali': {'age': 21, 'city': 'lahore', 'occupation': 'Engineer'}}\n"
     ]
    }
   ],
   "source": [
    "def add_occupation_to_nested_dict(input_dict):\n",
    "    for person, details in input_dict.items():\n",
    "        details['occupation'] = 'Engineer'\n",
    "    return input_dict\n",
    "\n",
    "input_string = input(\"Enter a nested dictionary in the format {'person1': {'age': age1, 'city': 'city1'}, 'person2': {'age': age2, 'city': 'city2'}, ...}: \")\n",
    "input_dict = eval(input_string)  # Safely evaluate the input string as a dictionary\n",
    "\n",
    "result_dict = add_occupation_to_nested_dict(input_dict)\n",
    "print(result_dict)\n"
   ]
  },
  {
   "cell_type": "code",
   "execution_count": 21,
   "id": "f0aefe23-1a2f-4e56-aa90-4f76c31b0148",
   "metadata": {
    "tags": []
   },
   "outputs": [
    {
     "name": "stdin",
     "output_type": "stream",
     "text": [
      "Enter a dictionary of names and ages in the format {'name1': age1, 'name2': age2, ...}:  {'a':20}\n"
     ]
    },
    {
     "name": "stdout",
     "output_type": "stream",
     "text": [
      "{'a': 20}\n"
     ]
    }
   ],
   "source": [
    "def filter_age_above_18(input_dict):\n",
    "    new_age_dict = {}\n",
    "    for name, age in input_dict.items():\n",
    "        if age >= 18:\n",
    "            new_age_dict[name] = age\n",
    "    return new_age_dict\n",
    "\n",
    "input_string = input(\"Enter a dictionary of names and ages in the format {'name1': age1, 'name2': age2, ...}: \")\n",
    "input_dict = eval(input_string)  # Safely evaluate the input string as a dictionary\n",
    "\n",
    "filtered_age_dict = filter_age_above_18(input_dict)\n",
    "print(filtered_age_dict)"
   ]
  },
  {
   "cell_type": "code",
   "execution_count": 22,
   "id": "e1defdc4-11cd-44d9-b124-2655003cad39",
   "metadata": {
    "tags": []
   },
   "outputs": [
    {
     "name": "stdin",
     "output_type": "stream",
     "text": [
      "Enter your list of integers separated by spaces:  1 2 3 4\n",
      "Enter your list of strings separated by spaces:  a b c d\n"
     ]
    },
    {
     "name": "stdout",
     "output_type": "stream",
     "text": [
      "{1: 'a', 2: 'b', 3: 'c', 4: 'd'}\n"
     ]
    }
   ],
   "source": [
    "def list_to_dict(li1, li2):\n",
    "    d = {}\n",
    "    for i in range(len(li1)):\n",
    "        d[li1[i]] = li2[i]\n",
    "    print(d)\n",
    "\n",
    "li1 = [int(x) for x in input(\"Enter your list of integers separated by spaces: \").split()]\n",
    "li2 = input(\"Enter your list of strings separated by spaces: \").split()\n",
    "\n",
    "list_to_dict(li1, li2)\n"
   ]
  },
  {
   "cell_type": "code",
   "execution_count": null,
   "id": "70b804ee-b9d6-4b1d-b201-1695dc89f77b",
   "metadata": {},
   "outputs": [],
   "source": []
  }
 ],
 "metadata": {
  "kernelspec": {
   "display_name": "Python 3 (ipykernel)",
   "language": "python",
   "name": "python3"
  },
  "language_info": {
   "codemirror_mode": {
    "name": "ipython",
    "version": 3
   },
   "file_extension": ".py",
   "mimetype": "text/x-python",
   "name": "python",
   "nbconvert_exporter": "python",
   "pygments_lexer": "ipython3",
   "version": "3.11.4"
  }
 },
 "nbformat": 4,
 "nbformat_minor": 5
}
