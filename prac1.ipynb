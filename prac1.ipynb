{
 "cells": [
  {
   "cell_type": "code",
   "execution_count": 1,
   "id": "a74252a4-3f78-415f-9a43-cd0cf140fbc7",
   "metadata": {},
   "outputs": [
    {
     "name": "stdout",
     "output_type": "stream",
     "text": [
      "{1: 'A', 2: 'B', 3: 'C', 4: 'D'}\n"
     ]
    }
   ],
   "source": [
    "li1 = [1,2,3,4]\n",
    "li2 = ['A', 'B', 'C', 'D']\n",
    "d = {}\n",
    "for i in range(len(li1)):\n",
    "    d[li1[i]] = li2[i]\n",
    "print(d)"
   ]
  },
  {
   "cell_type": "code",
   "execution_count": 3,
   "id": "a97fe667-db20-4f0b-876c-226bb327be6c",
   "metadata": {
    "tags": []
   },
   "outputs": [
    {
     "name": "stdout",
     "output_type": "stream",
     "text": [
      "{1: 'A', 2: 'B', 3: 'C', 4: 'apple', 5: 'E', 6: 'E', 7: 'apple'}\n"
     ]
    }
   ],
   "source": [
    "dic = {1:'A', 2:'B', 3:'C', 4:'D', 5:'E', 6:'E', 7:'D'}\n",
    "for i in dic:\n",
    "    if dic[i] == 'D':\n",
    "        dic[i] = 'apple'\n",
    "print(dic)"
   ]
  },
  {
   "cell_type": "code",
   "execution_count": 4,
   "id": "1aac7b64-a36b-4c0e-988d-a2e23e51440d",
   "metadata": {
    "tags": []
   },
   "outputs": [
    {
     "name": "stdout",
     "output_type": "stream",
     "text": [
      "{'A': 1, 'B': 2, 'C': 3, 'D': 10, 'E': 4, 'F': 5, 'G': 6, 'H': 10}\n"
     ]
    }
   ],
   "source": [
    "dic1 = {'A': 1, 'B':2, 'C':3, 'D':7, 'E':4, 'F':5, 'G':6, 'H':7}\n",
    "for i in dic1:\n",
    "    if dic1[i] == 7:\n",
    "        dic1[i] = 10\n",
    "print(dic1)"
   ]
  },
  {
   "cell_type": "code",
   "execution_count": 5,
   "id": "469a644b-4869-439e-9655-65c29bb74fe7",
   "metadata": {
    "tags": []
   },
   "outputs": [
    {
     "name": "stdout",
     "output_type": "stream",
     "text": [
      "{'A': 1, 'B': 2, 'C': 3, 'D': 10, 'E': 4, 'F': 5, 'G': 6, 'H': 10}\n"
     ]
    }
   ],
   "source": [
    "dic1 = {'A': 1, 'B':2, 'C':3, 'D':7, 'E':4, 'F':5, 'G':6, 'H':7}\n",
    "for k,v in dic1.items():\n",
    "    if dic1[k] == 7:\n",
    "        dic1[k] = 10\n",
    "print(dic1)"
   ]
  },
  {
   "cell_type": "code",
   "execution_count": 7,
   "id": "d7b8dae5-2539-45a2-8fd5-6163fbd5626d",
   "metadata": {
    "tags": []
   },
   "outputs": [
    {
     "name": "stdout",
     "output_type": "stream",
     "text": [
      "1 ,9 ,10 ,"
     ]
    }
   ],
   "source": [
    "A = [1,2,9,7,10,11]\n",
    "B = [1,9,12,13,14,10]\n",
    "for i in range(len(A)):\n",
    "    for j in range(len(A)):\n",
    "        if A[i] == B[j]:\n",
    "            print(A[i], end=' ,')\n",
    "    "
   ]
  },
  {
   "cell_type": "code",
   "execution_count": 11,
   "id": "d1f12a58-f147-4b19-9a2f-bc7c022adef3",
   "metadata": {
    "tags": []
   },
   "outputs": [
    {
     "name": "stdout",
     "output_type": "stream",
     "text": [
      "1\n",
      "3\n",
      "5\n",
      "7\n",
      "9\n"
     ]
    }
   ],
   "source": [
    "for i in range(10):\n",
    "    if i % 2 == 0:\n",
    "        continue\n",
    "    else:\n",
    "        print(i)"
   ]
  },
  {
   "cell_type": "code",
   "execution_count": 15,
   "id": "5da9a2b8-81c7-440a-bb38-6df8834947d9",
   "metadata": {
    "tags": []
   },
   "outputs": [
    {
     "name": "stdout",
     "output_type": "stream",
     "text": [
      "0\n",
      "1\n"
     ]
    }
   ],
   "source": [
    "for i in range(10):\n",
    "    if i % 2 != 0:\n",
    "        print(i)\n",
    "        break\n",
    "    else:\n",
    "        print(i)"
   ]
  },
  {
   "cell_type": "code",
   "execution_count": 19,
   "id": "82b6a3b0-403d-41e6-b9c7-551efc34c1ea",
   "metadata": {
    "tags": []
   },
   "outputs": [],
   "source": [
    "for i in range(10):\n",
    "    pass"
   ]
  },
  {
   "cell_type": "code",
   "execution_count": 25,
   "id": "7ec2c30d-b637-4cb9-b231-042fa4117b52",
   "metadata": {
    "tags": []
   },
   "outputs": [
    {
     "name": "stdout",
     "output_type": "stream",
     "text": [
      "1\n",
      "4\n",
      "9\n",
      "16\n"
     ]
    }
   ],
   "source": [
    "list1 = [1,2,3,4]\n",
    "for i in list1:\n",
    "    list1 = i**2\n",
    "    print(list1)"
   ]
  },
  {
   "cell_type": "code",
   "execution_count": 54,
   "id": "37940f8e-f286-4140-83dd-2711e6056498",
   "metadata": {
    "tags": []
   },
   "outputs": [
    {
     "name": "stdout",
     "output_type": "stream",
     "text": [
      "[1, 2, 3, 4]\n"
     ]
    }
   ],
   "source": [
    "A = [3,1,4,2]\n",
    "for i in range(len(A)):\n",
    "    for j in range(0,len(A)-i-1):\n",
    "        #print(i,j)\n",
    "        if A[j] > A[j+1]:\n",
    "            A[j], A [j+1] = A[j+1], A[j]\n",
    "print(A)"
   ]
  },
  {
   "cell_type": "code",
   "execution_count": 1,
   "id": "be5dbaac-45a6-491a-8278-f6577021efb3",
   "metadata": {
    "tags": []
   },
   "outputs": [
    {
     "name": "stdout",
     "output_type": "stream",
     "text": [
      "0 0\n",
      "1\n",
      "2\n",
      "1 0\n",
      "1\n",
      "2 0\n",
      "3 "
     ]
    }
   ],
   "source": [
    "A = [3,1,4,2]\n",
    "for i in range(len(A)):\n",
    "    print(i,end=' ')\n",
    "    for j in range(0,len(A)-i-1):\n",
    "        print(j)"
   ]
  },
  {
   "cell_type": "code",
   "execution_count": 3,
   "id": "4727c6d9-a26a-405f-9bf7-cb97f22848e2",
   "metadata": {
    "tags": []
   },
   "outputs": [
    {
     "name": "stdout",
     "output_type": "stream",
     "text": [
      "[1, 'Ali', {0: 'B'}]\n"
     ]
    }
   ],
   "source": [
    "arr = [1, 'Ali', {0:'A'}]\n",
    "arr[2][0] = 'B'\n",
    "print(arr)"
   ]
  },
  {
   "cell_type": "code",
   "execution_count": null,
   "id": "ae9a8e14-2f34-4232-aa32-03bea83bcf6a",
   "metadata": {},
   "outputs": [],
   "source": []
  },
  {
   "cell_type": "code",
   "execution_count": 4,
   "id": "972d94cd-d0bb-49de-a5bd-c24fda216b22",
   "metadata": {
    "tags": []
   },
   "outputs": [
    {
     "name": "stdout",
     "output_type": "stream",
     "text": [
      "{'Alice': {'age': 25, 'city': 'Newyork', 'occupation': 'Engineer'}, 'Bob': {'age': 30, 'city': ' San Francisco', 'occupation': 'Engineer'}}\n"
     ]
    }
   ],
   "source": [
    "people = {'Alice':{'age':25, 'city':'Newyork'},\n",
    "        'Bob' : {'age': 30, 'city':' San Francisco'}\n",
    "         }\n",
    "\n",
    "for k,v in people.items():\n",
    "    v['occupation'] = 'Engineer'\n",
    "print(people)"
   ]
  },
  {
   "cell_type": "code",
   "execution_count": 11,
   "id": "f52077e7-7965-4f8d-8c0a-ff3be0f8e20d",
   "metadata": {
    "tags": []
   },
   "outputs": [
    {
     "name": "stdout",
     "output_type": "stream",
     "text": [
      "simple no 1\n",
      "continue detected at 2\n",
      "pass detected at 4\n",
      "simple no 5\n",
      "break detected at 3\n"
     ]
    }
   ],
   "source": [
    "A = [1,2,4,5,3,7]\n",
    "for x in A:\n",
    "    if x == 4:\n",
    "        print(\"pass detected at\", x)\n",
    "        pass\n",
    "    elif x == 2:\n",
    "        print(\"continue detected at\", x)\n",
    "        continue\n",
    "    elif x == 3:\n",
    "        print(\"break detected at\", x)\n",
    "        break\n",
    "    else:\n",
    "        print(\"simple no\", x)"
   ]
  },
  {
   "cell_type": "code",
   "execution_count": 26,
   "id": "a6e299b4-6ea3-4988-b30e-a59b6677884e",
   "metadata": {
    "tags": []
   },
   "outputs": [
    {
     "name": "stdout",
     "output_type": "stream",
     "text": [
      "{'Alice': 20, 'Salman': 28, 'Ali': 18}\n"
     ]
    }
   ],
   "source": [
    "age = {'Alice': 20,\n",
    "      'Salman': 28,\n",
    "      'Hamza': 16,\n",
    "      'Ali': 18}\n",
    "n_age = {}\n",
    "for k,v in age.items():\n",
    "    if v < 18:\n",
    "        continue\n",
    "    else:\n",
    "        n_age[k] = v\n",
    "print(n_age)\n"
   ]
  },
  {
   "cell_type": "code",
   "execution_count": 1,
   "id": "c1f1d9d9-a349-4b23-81fb-b1c9df3ed39e",
   "metadata": {},
   "outputs": [
    {
     "name": "stdin",
     "output_type": "stream",
     "text": [
      "Enter a dictionary of names and ages in the format {'name1': age1, 'name2': age2, ...}:  {'asma':23, 'xyz':18}\n"
     ]
    },
    {
     "name": "stdout",
     "output_type": "stream",
     "text": [
      "{'asma': 23, 'xyz': 18}\n"
     ]
    }
   ],
   "source": [
    "def filter_age_above_18(input_dict):\n",
    "    new_age_dict = {}\n",
    "    for name, age in input_dict.items():\n",
    "        if age >= 18:\n",
    "            new_age_dict[name] = age\n",
    "    return new_age_dict\n",
    "\n",
    "input_string = input(\"Enter a dictionary of names and ages in the format {'name1': age1, 'name2': age2, ...}: \")\n",
    "input_dict = eval(input_string)  # Safely evaluate the input string as a dictionary\n",
    "\n",
    "filtered_age_dict = filter_age_above_18(input_dict)\n",
    "print(filtered_age_dict)\n"
   ]
  },
  {
   "cell_type": "code",
   "execution_count": 41,
   "id": "4f53433e-b9e7-49fd-890c-af8c92d00305",
   "metadata": {},
   "outputs": [
    {
     "name": "stdout",
     "output_type": "stream",
     "text": [
      "[10, 6, 1, 8, 50, 100]\n"
     ]
    }
   ],
   "source": [
    "A = [10,8,6,1,100,50]\n",
    "for i in range(len(A)):\n",
    "    for j in range(i+1,len(A)-1):\n",
    "        #print(i,j)\n",
    "        if A[j] > A[j+1]:\n",
    "            A[j], A [j+1] = A[j+1], A[j]\n",
    "print(A)"
   ]
  },
  {
   "cell_type": "code",
   "execution_count": 42,
   "id": "19131fcf-d6eb-4867-84d4-9995b08d57ef",
   "metadata": {
    "tags": []
   },
   "outputs": [
    {
     "name": "stdout",
     "output_type": "stream",
     "text": [
      "[1, 6, 8, 10, 50, 100]\n"
     ]
    }
   ],
   "source": [
    "A = [10,8,6,1,100,50]\n",
    "for i in range(len(A)):\n",
    "    for j in range(i+1,len(A)):\n",
    "        #print(i,j)\n",
    "        if A[i] > A[j]:\n",
    "            A[i], A [j] = A[j], A[i]\n",
    "print(A)"
   ]
  },
  {
   "cell_type": "code",
   "execution_count": null,
   "id": "d1c6dd76-6561-494c-8ee8-2922b0b3aa00",
   "metadata": {},
   "outputs": [],
   "source": []
  },
  {
   "cell_type": "code",
   "execution_count": 47,
   "id": "683d943c-483d-4617-90a2-b5d3c86df13c",
   "metadata": {
    "tags": []
   },
   "outputs": [
    {
     "name": "stdin",
     "output_type": "stream",
     "text": [
      "Enter a nested dictionary in the format {'person1': {'age': age1, 'city': 'city1'}, 'person2': {'age': age2, 'city': 'city2'}, ...}:  {'person1': {'age': 11, 'city': 'city1'}}\n"
     ]
    },
    {
     "name": "stdout",
     "output_type": "stream",
     "text": [
      "{'person1': {'age': 11, 'city': 'city1', 'occupation': 'Engineer'}}\n"
     ]
    }
   ],
   "source": [
    "input_string = input(\"Enter a nested dictionary in the format {'person1': {'age': age1, 'city': 'city1'}, 'person2': {'age': age2, 'city': 'city2'}, ...}: \")\n",
    "input_dict = eval(input_string) \n",
    "for person, details in input_dict.items():\n",
    "    details['occupation'] = 'Engineer'\n",
    "    print(input_dict)"
   ]
  },
  {
   "cell_type": "code",
   "execution_count": null,
   "id": "d40cd448-a862-44be-908a-bf5fdb9fb8b1",
   "metadata": {},
   "outputs": [],
   "source": []
  }
 ],
 "metadata": {
  "kernelspec": {
   "display_name": "Python 3 (ipykernel)",
   "language": "python",
   "name": "python3"
  },
  "language_info": {
   "codemirror_mode": {
    "name": "ipython",
    "version": 3
   },
   "file_extension": ".py",
   "mimetype": "text/x-python",
   "name": "python",
   "nbconvert_exporter": "python",
   "pygments_lexer": "ipython3",
   "version": "3.11.4"
  }
 },
 "nbformat": 4,
 "nbformat_minor": 5
}
