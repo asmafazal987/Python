{
 "cells": [
  {
   "cell_type": "code",
   "execution_count": 9,
   "id": "78ac4ba6-bc0c-4163-837d-269e77260746",
   "metadata": {
    "tags": []
   },
   "outputs": [
    {
     "name": "stdin",
     "output_type": "stream",
     "text": [
      "Enter your list of integers separated by spaces:  1 2\n",
      "Enter your list of strings separated by spaces:  'a' 'b'\n"
     ]
    },
    {
     "name": "stdout",
     "output_type": "stream",
     "text": [
      "{1: \"'a'\", 2: \"'b'\"}\n"
     ]
    },
    {
     "name": "stdin",
     "output_type": "stream",
     "text": [
      "Enter a dictionary in the format {key1:value1, key2:value2, ...}:  {1: 'A', 2: 'B', 3: 'C', 4: 'apple', 5: 'E', 6: 'E', 7: 'apple'}\n"
     ]
    },
    {
     "name": "stdout",
     "output_type": "stream",
     "text": [
      "{1: 'A', 2: 'B', 3: 'C', 4: 'apple', 5: 'E', 6: 'E', 7: 'apple'}\n"
     ]
    },
    {
     "name": "stdin",
     "output_type": "stream",
     "text": [
      "Enter a dictionary in the format {'key1': value1, 'key2': value2, ...}:  {'A': 1, 'B': 2, 'C': 3, 'D': 10, 'E': 4, 'F': 5, 'G': 6, 'H': 10}\n"
     ]
    },
    {
     "name": "stdout",
     "output_type": "stream",
     "text": [
      "{'A': 1, 'B': 2, 'C': 3, 'D': 10, 'E': 4, 'F': 5, 'G': 6, 'H': 10}\n"
     ]
    },
    {
     "name": "stdin",
     "output_type": "stream",
     "text": [
      "Enter the first list as comma-separated values:  1,2,3,4\n",
      "Enter the second list as comma-separated values:  1,2,3,4\n"
     ]
    },
    {
     "name": "stdout",
     "output_type": "stream",
     "text": [
      "1 ,2 ,3 ,4 ,"
     ]
    },
    {
     "name": "stdin",
     "output_type": "stream",
     "text": [
      "Enter the starting number:  2\n",
      "Enter the ending number:  7\n"
     ]
    },
    {
     "name": "stdout",
     "output_type": "stream",
     "text": [
      "3\n",
      "5\n",
      "7\n"
     ]
    },
    {
     "name": "stdin",
     "output_type": "stream",
     "text": [
      "Enter a nested dictionary in the format {'person1': {'age': age1, 'city': 'city1'}, 'person2': {'age': age2, 'city': 'city2'}, ...}:  {'Alice':{'age':25, 'city':'Newyork'},         'Bob' : {'age': 30, 'city':' San Francisco'}          }\n"
     ]
    },
    {
     "name": "stdout",
     "output_type": "stream",
     "text": [
      "{'Alice': {'age': 25, 'city': 'Newyork', 'occupation': 'Engineer'}, 'Bob': {'age': 30, 'city': ' San Francisco', 'occupation': 'Engineer'}}\n"
     ]
    },
    {
     "name": "stdin",
     "output_type": "stream",
     "text": [
      "Enter a dictionary of names and ages in the format {'name1': age1, 'name2': age2, ...}:  {'Alice':{'age':25, 'city':'Newyork'},         'Bob' : {'age': 30, 'city':' San Francisco'}          }\n"
     ]
    },
    {
     "ename": "TypeError",
     "evalue": "'>=' not supported between instances of 'dict' and 'int'",
     "output_type": "error",
     "traceback": [
      "\u001b[1;31m---------------------------------------------------------------------------\u001b[0m",
      "\u001b[1;31mTypeError\u001b[0m                                 Traceback (most recent call last)",
      "Cell \u001b[1;32mIn[9], line 1\u001b[0m\n\u001b[1;32m----> 1\u001b[0m \u001b[38;5;28;01mclass\u001b[39;00m \u001b[38;5;21;01mAssignment2_Module\u001b[39;00m:\n\u001b[0;32m      2\u001b[0m \n\u001b[0;32m      3\u001b[0m \n\u001b[0;32m      4\u001b[0m     \u001b[38;5;66;03m# Question no 1\u001b[39;00m\n\u001b[0;32m      5\u001b[0m     \u001b[38;5;28;01mdef\u001b[39;00m \u001b[38;5;21mlist_to_dict\u001b[39m(li1, li2):\n\u001b[0;32m      6\u001b[0m         d \u001b[38;5;241m=\u001b[39m {}\n",
      "Cell \u001b[1;32mIn[9], line 110\u001b[0m, in \u001b[0;36mAssignment2_Module\u001b[1;34m()\u001b[0m\n\u001b[0;32m    107\u001b[0m input_string \u001b[38;5;241m=\u001b[39m \u001b[38;5;28minput\u001b[39m(\u001b[38;5;124m\"\u001b[39m\u001b[38;5;124mEnter a dictionary of names and ages in the format \u001b[39m\u001b[38;5;124m{\u001b[39m\u001b[38;5;124m'\u001b[39m\u001b[38;5;124mname1\u001b[39m\u001b[38;5;124m'\u001b[39m\u001b[38;5;124m: age1, \u001b[39m\u001b[38;5;124m'\u001b[39m\u001b[38;5;124mname2\u001b[39m\u001b[38;5;124m'\u001b[39m\u001b[38;5;124m: age2, ...}: \u001b[39m\u001b[38;5;124m\"\u001b[39m)\n\u001b[0;32m    108\u001b[0m input_dict \u001b[38;5;241m=\u001b[39m \u001b[38;5;28meval\u001b[39m(input_string)  \u001b[38;5;66;03m# Safely evaluate the input string as a dictionary\u001b[39;00m\n\u001b[1;32m--> 110\u001b[0m filtered_age_dict \u001b[38;5;241m=\u001b[39m filter_age_above_18(input_dict)\n\u001b[0;32m    111\u001b[0m \u001b[38;5;28mprint\u001b[39m(filtered_age_dict)\n",
      "Cell \u001b[1;32mIn[9], line 103\u001b[0m, in \u001b[0;36mAssignment2_Module.filter_age_above_18\u001b[1;34m(input_dict)\u001b[0m\n\u001b[0;32m    101\u001b[0m new_age_dict \u001b[38;5;241m=\u001b[39m {}\n\u001b[0;32m    102\u001b[0m \u001b[38;5;28;01mfor\u001b[39;00m name, age \u001b[38;5;129;01min\u001b[39;00m input_dict\u001b[38;5;241m.\u001b[39mitems():\n\u001b[1;32m--> 103\u001b[0m     \u001b[38;5;28;01mif\u001b[39;00m age \u001b[38;5;241m>\u001b[39m\u001b[38;5;241m=\u001b[39m \u001b[38;5;241m18\u001b[39m:\n\u001b[0;32m    104\u001b[0m         new_age_dict[name] \u001b[38;5;241m=\u001b[39m age\n\u001b[0;32m    105\u001b[0m \u001b[38;5;28;01mreturn\u001b[39;00m new_age_dict\n",
      "\u001b[1;31mTypeError\u001b[0m: '>=' not supported between instances of 'dict' and 'int'"
     ]
    }
   ],
   "source": [
    "class Assignment2_Module:\n",
    "\n",
    "\n",
    "    # Question no 1\n",
    "    def list_to_dict(li1, li2):\n",
    "        d = {}\n",
    "        for i in range(len(li1)):\n",
    "            d[li1[i]] = li2[i]\n",
    "        print(d)\n",
    "\n",
    "    li1 = [int(x) for x in input(\"Enter your list of integers separated by spaces: \").split()]\n",
    "    li2 = input(\"Enter your list of strings separated by spaces: \").split()\n",
    "\n",
    "    list_to_dict(li1, li2)\n",
    "\n",
    "\n",
    "    # Question no 2\n",
    "    def replace_dictionary(input_dict):\n",
    "        for key in input_dict:\n",
    "            if input_dict[key] == 'D':\n",
    "                input_dict[key] = 'apple'\n",
    "        return input_dict\n",
    "\n",
    "    input_string = input(\"Enter a dictionary in the format {key1:value1, key2:value2, ...}: \")\n",
    "    input_dict = eval(input_string)  # Safely evaluate the input string as a dictionary\n",
    "\n",
    "    result_dict = replace_dictionary(input_dict)\n",
    "    print(result_dict)\n",
    "\n",
    "\n",
    "    \n",
    "    # Question no 3\n",
    "    def update_dictionary(input_dict):\n",
    "        for key,value in input_dict.items():\n",
    "            if input_dict[key] == 7:\n",
    "                input_dict[key] = 10\n",
    "        return input_dict\n",
    "\n",
    "    input_string = input(\"Enter a dictionary in the format {'key1': value1, 'key2': value2, ...}: \")\n",
    "    input_dict = eval(input_string)  # Safely evaluate the input string as a dictionary\n",
    "\n",
    "    result_dict = update_dictionary(input_dict)\n",
    "    print(result_dict)\n",
    "\n",
    "    # Question no 4\n",
    "    def find_common_elements(list1, list2):\n",
    "        for item1 in list1:\n",
    "            for item2 in list2:\n",
    "                if item1 == item2:\n",
    "                    print(item1, end=' ,')\n",
    "\n",
    "    input_string1 = input(\"Enter the first list as comma-separated values: \")\n",
    "    list1 = [int(x) for x in input_string1.split(',')]\n",
    "\n",
    "    input_string2 = input(\"Enter the second list as comma-separated values: \")\n",
    "    list2 = [int(x) for x in input_string2.split(',')]\n",
    "\n",
    "    find_common_elements(list1, list2)\n",
    "\n",
    "    # Question no 5\n",
    "    def use_of_continue(start, end):\n",
    "        for i in range(start, end+1):\n",
    "            if i % 2 == 0:\n",
    "                continue\n",
    "            else:\n",
    "                print(i)\n",
    "\n",
    "    start_num = int(input(\"Enter the starting number: \"))\n",
    "    end_num = int(input(\"Enter the ending number: \"))\n",
    "\n",
    "    use_of_continue(start_num, end_num)\n",
    "    \n",
    "    # Question no 6\n",
    "    def update_list_element(input_list, index, key, value):\n",
    "        input_list[index][key] = value\n",
    "\n",
    "        input_string = input(\"Enter a list containing different data types: \")\n",
    "        input_list = eval(input_string)  # Safely evaluate the input string as a list\n",
    "\n",
    "        index = int(input(\"Enter the index of the dictionary element in the list: \"))\n",
    "        key = input(\"Enter the key for the dictionary element: \")\n",
    "        value = input(\"Enter the value to update with: \")\n",
    "\n",
    "        update_list_element(input_list, index, key, value)\n",
    "        print(input_list)\n",
    "\n",
    "    # Question no 7\n",
    "    def add_occupation_to_nested_dict(input_dict):\n",
    "        for person, details in input_dict.items():\n",
    "            details['occupation'] = 'Engineer'\n",
    "        return input_dict\n",
    "\n",
    "    input_string = input(\"Enter a nested dictionary in the format {'person1': {'age': age1, 'city': 'city1'}, 'person2': {'age': age2, 'city': 'city2'}, ...}: \")\n",
    "    input_dict = eval(input_string)  # Safely evaluate the input string as a dictionary\n",
    "\n",
    "    result_dict = add_occupation_to_nested_dict(input_dict)\n",
    "    print(result_dict)\n",
    "\n",
    "    # Question no 8\n",
    "    def filter_age_above_18(input_dict):\n",
    "        new_age_dict = {}\n",
    "        for name, age in input_dict.items():\n",
    "            if age >= 18:\n",
    "                new_age_dict[name] = age\n",
    "        return new_age_dict\n",
    "\n",
    "    input_string = input(\"Enter a dictionary of names and ages in the format {'name1': age1, 'name2': age2, ...}: \")\n",
    "    input_dict = eval(input_string)  # Safely evaluate the input string as a dictionary\n",
    "\n",
    "    filtered_age_dict = filter_age_above_18(input_dict)\n",
    "    print(filtered_age_dict)"
   ]
  },
  {
   "cell_type": "code",
   "execution_count": null,
   "id": "813b31eb-6564-4b9b-82f6-2e7b833564c2",
   "metadata": {},
   "outputs": [],
   "source": []
  }
 ],
 "metadata": {
  "kernelspec": {
   "display_name": "Python 3 (ipykernel)",
   "language": "python",
   "name": "python3"
  },
  "language_info": {
   "codemirror_mode": {
    "name": "ipython",
    "version": 3
   },
   "file_extension": ".py",
   "mimetype": "text/x-python",
   "name": "python",
   "nbconvert_exporter": "python",
   "pygments_lexer": "ipython3",
   "version": "3.11.4"
  }
 },
 "nbformat": 4,
 "nbformat_minor": 5
}
