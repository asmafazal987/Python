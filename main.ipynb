{
 "cells": [
  {
   "cell_type": "code",
   "execution_count": 2,
   "id": "1e1db32b-c789-43bc-8672-8439121674e9",
   "metadata": {
    "tags": []
   },
   "outputs": [
    {
     "ename": "ModuleNotFoundError",
     "evalue": "No module named 'Assignment2_Module'",
     "output_type": "error",
     "traceback": [
      "\u001b[1;31m---------------------------------------------------------------------------\u001b[0m",
      "\u001b[1;31mModuleNotFoundError\u001b[0m                       Traceback (most recent call last)",
      "Cell \u001b[1;32mIn[2], line 1\u001b[0m\n\u001b[1;32m----> 1\u001b[0m \u001b[38;5;28;01mfrom\u001b[39;00m \u001b[38;5;21;01mAssignment2_Module\u001b[39;00m \u001b[38;5;28;01mimport\u001b[39;00m Assignment2_Module\n\u001b[0;32m      3\u001b[0m \u001b[38;5;28;01mdef\u001b[39;00m \u001b[38;5;21mmain\u001b[39m():\n\u001b[0;32m      4\u001b[0m     obj \u001b[38;5;241m=\u001b[39m Assignment2_Module()\n",
      "\u001b[1;31mModuleNotFoundError\u001b[0m: No module named 'Assignment2_Module'"
     ]
    }
   ],
   "source": [
    "from Assignment2_Module import Assignment2_Module\n",
    "\n",
    "def main():\n",
    "    obj = Assignment2_Module()\n",
    "\n",
    "    question = int(input('Enter the question number (1 to 8): '))\n",
    "\n",
    "    question_functions = {\n",
    "        1: obj.list_to_dict,\n",
    "        2: obj.replace_dictionary,\n",
    "        3: obj.update_dictionary,\n",
    "        4: obj.find_common_elements,\n",
    "        5: obj.use_of_continue,\n",
    "        6: obj.update_list_element,\n",
    "        7: obj.add_occupation_to_nested_dict,\n",
    "        8: obj.filter_age_above_18\n",
    "    }\n",
    "\n",
    "    if question in question_functions:\n",
    "        result = question_functions[question]()\n",
    "        print(\"Result:\", result)\n",
    "    else:\n",
    "        print(\"Invalid question number.\")\n",
    "\n",
    "if __name__ == \"__main__\":\n",
    "    main()"
   ]
  },
  {
   "cell_type": "code",
   "execution_count": null,
   "id": "b207620c-093c-4bf0-9c5c-ce912b480106",
   "metadata": {
    "tags": []
   },
   "outputs": [],
   "source": []
  },
  {
   "cell_type": "code",
   "execution_count": null,
   "id": "e93d852b-432b-434b-a359-9b8c37e4e7ad",
   "metadata": {},
   "outputs": [],
   "source": []
  },
  {
   "cell_type": "code",
   "execution_count": null,
   "id": "607996a8-fc44-425e-baf9-36effa492f05",
   "metadata": {},
   "outputs": [],
   "source": []
  }
 ],
 "metadata": {
  "kernelspec": {
   "display_name": "Python 3 (ipykernel)",
   "language": "python",
   "name": "python3"
  },
  "language_info": {
   "codemirror_mode": {
    "name": "ipython",
    "version": 3
   },
   "file_extension": ".py",
   "mimetype": "text/x-python",
   "name": "python",
   "nbconvert_exporter": "python",
   "pygments_lexer": "ipython3",
   "version": "3.11.4"
  }
 },
 "nbformat": 4,
 "nbformat_minor": 5
}
